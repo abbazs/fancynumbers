{
 "cells": [
  {
   "cell_type": "code",
   "execution_count": null,
   "source": [
    "import json\n",
    "import pandas as pd\n",
    "from rich.jupyter import print"
   ],
   "outputs": [],
   "metadata": {}
  },
  {
   "cell_type": "code",
   "execution_count": null,
   "source": [
    "import requests\n",
    "\n",
    "headers = {\n",
    "    'authority': '10digi.com',\n",
    "    'sec-ch-ua': '\"Google Chrome\";v=\"93\", \" Not;A Brand\";v=\"99\", \"Chromium\";v=\"93\"',\n",
    "    'accept': 'application/json, text/plain, */*',\n",
    "    'content-type': 'application/json;charset=UTF-8',\n",
    "    'accept-language': 'en-GB,en-US;q=0.9,en;q=0.8',\n",
    "    'sec-ch-ua-mobile': '?0',\n",
    "    'user-agent': 'Mozilla/5.0 (Windows NT 10.0; WOW64) AppleWebKit/537.36 (KHTML, like Gecko) Chrome/93.0.4577.82 Safari/537.36',\n",
    "    'sec-ch-ua-platform': '\"Windows\"',\n",
    "    'origin': 'https://10digi.com',\n",
    "    'sec-fetch-site': 'same-origin',\n",
    "    'sec-fetch-mode': 'cors',\n",
    "    'sec-fetch-dest': 'empty',\n",
    "    'referer': 'https://10digi.com/fancy-number/',\n",
    "    'cookie': '_gcl_au=1.1.1692264640.1632140588; SL_C_23361dd035530_KEY=605b54c5ca7ce860b7dd00fbd27964dc1ab0b475; _ga=GA1.2.2035690568.1632140601; _hjid=67bf66e1-b8b1-4f36-823b-3772d83ba61c; _fbp=fb.1.1632140602027.679858302; _scid=Gpvi4RUBhRvMb9jUsbFwzSrvk2Mgqe8N5XchPZzS-G_YT0aXc6t6elu7kMGaWn90zPcyeW7VuBrY0vM2T3GAlGpHQmNuLVZxblI5dmJFUWk0S1dVNVFXUV94U0R1YWZiNmp1T1dLMU0xbEE; _gid=GA1.2.639119556.1632731679; _gat_gtag_UA_148343518_1=1; _gat_UA-112393552-1=1; _hjAbsoluteSessionInProgress=1; _hjShownFeedbackMessage=true; SL_C_23361dd035530_VID=2LUDXz091p; _uetsid=c1145fb01f6d11ecb978d35aa08e524e; _uetvid=86be24601a0d11eca09ffdf7825808a9',\n",
    "}\n",
    "\n",
    "data = '{\"filters\":{\"brands\":[],\"patterns\":[],\"category_type\":[\"top-numbers\"],\"price\":{\"max\":\"100000.00\",\"min\":\"0.00\"},\"series\":[],\"limit\":100000,\"offset\":0}}'\n",
    "response = requests.post('https://10digi.com/api/v2/numbers/list', headers=headers, data=data)"
   ],
   "outputs": [],
   "metadata": {}
  },
  {
   "cell_type": "code",
   "execution_count": null,
   "source": [
    "content = json.loads(response.content)\n",
    "dfi = pd.DataFrame(content[\"data\"][\"list\"])\n",
    "df = dfi[[\"number\", \"value\", \"circle_name\", \"brand_name\"]]"
   ],
   "outputs": [],
   "metadata": {}
  },
  {
   "cell_type": "markdown",
   "source": [
    "# Total available numbers"
   ],
   "metadata": {}
  },
  {
   "cell_type": "code",
   "execution_count": null,
   "source": [
    "print(f\"Available numbers [bold magenta]{df.size}[/]\")"
   ],
   "outputs": [],
   "metadata": {}
  },
  {
   "cell_type": "markdown",
   "source": [
    "# Any triple numbers"
   ],
   "metadata": {}
  },
  {
   "cell_type": "code",
   "execution_count": null,
   "source": [
    "df[df[\"number\"].astype(str).str.match(r\".*(\\d)\\1\\1.*\")]"
   ],
   "outputs": [],
   "metadata": {}
  },
  {
   "cell_type": "markdown",
   "source": [
    "# One triple and one double number"
   ],
   "metadata": {}
  },
  {
   "cell_type": "code",
   "execution_count": null,
   "source": [
    "df[df[\"number\"].astype(str).str.match(r\".*(\\d)\\1\\1.*(\\d)\\2?\\2.*|.*(\\d)\\3?\\3.*(\\d)\\4\\4.*\")]"
   ],
   "outputs": [],
   "metadata": {}
  },
  {
   "cell_type": "markdown",
   "source": [
    "# Two numbers repeating at least once"
   ],
   "metadata": {}
  },
  {
   "cell_type": "code",
   "execution_count": null,
   "source": [
    "df[df[\"number\"].astype(str).str.match(r\".*(\\d{2}).*\\1\")]"
   ],
   "outputs": [],
   "metadata": {}
  },
  {
   "cell_type": "markdown",
   "source": [
    "# Two numbers repeating more than once"
   ],
   "metadata": {}
  },
  {
   "cell_type": "code",
   "execution_count": null,
   "source": [
    "df[df[\"number\"].astype(str).str.match(r\".*(\\d{2}).*\\1.*\\1.*\")]"
   ],
   "outputs": [],
   "metadata": {}
  },
  {
   "cell_type": "markdown",
   "source": [
    "# Two numbers repeating more than once consecutively  "
   ],
   "metadata": {}
  },
  {
   "cell_type": "code",
   "execution_count": null,
   "source": [
    "df[df[\"number\"].astype(str).str.match(r\".*(\\d{2})\\1\\1.*\")]"
   ],
   "outputs": [],
   "metadata": {}
  },
  {
   "cell_type": "markdown",
   "source": [
    "# Starting two numbers repeated anywhere"
   ],
   "metadata": {}
  },
  {
   "cell_type": "code",
   "execution_count": null,
   "source": [
    "df[df[\"number\"].astype(str).str.match(r\"^(\\d{2}).*\\1\")]"
   ],
   "outputs": [],
   "metadata": {}
  },
  {
   "cell_type": "markdown",
   "source": [
    "# Starting and ending 3 numbers are same"
   ],
   "metadata": {}
  },
  {
   "cell_type": "code",
   "execution_count": null,
   "source": [
    "df[df[\"number\"].astype(str).str.match(r\"^(\\d{3}).*\\1$\")]"
   ],
   "outputs": [],
   "metadata": {}
  },
  {
   "cell_type": "markdown",
   "source": [
    "# Starting 3 numbers repeated at least once"
   ],
   "metadata": {}
  },
  {
   "cell_type": "code",
   "execution_count": null,
   "source": [
    "df[df[\"number\"].astype(str).str.match(r\"^(\\d{3}).*\\1.*\")]"
   ],
   "outputs": [],
   "metadata": {}
  },
  {
   "cell_type": "markdown",
   "source": [
    "# Any 3 numbers repeated once"
   ],
   "metadata": {}
  },
  {
   "cell_type": "code",
   "execution_count": null,
   "source": [
    "df[df[\"number\"].astype(str).str.match(r\".*(\\d{3}).*\\1.*\")]"
   ],
   "outputs": [],
   "metadata": {}
  },
  {
   "cell_type": "markdown",
   "source": [
    "# Any number repeated at least 4 times"
   ],
   "metadata": {}
  },
  {
   "cell_type": "code",
   "execution_count": null,
   "source": [
    "print(df[df[\"number\"].astype(str).str.match(r\".*(\\d).*\\1.*\\1.*\\1.*\")])"
   ],
   "outputs": [],
   "metadata": {}
  },
  {
   "cell_type": "markdown",
   "source": [
    "# Any number repeated at least 5 times"
   ],
   "metadata": {}
  },
  {
   "cell_type": "code",
   "execution_count": null,
   "source": [
    "print(df[df[\"number\"].astype(str).str.match(r\".*(\\d).*\\1.*\\1.*\\1.*\\1.*\")])"
   ],
   "outputs": [],
   "metadata": {}
  },
  {
   "cell_type": "markdown",
   "source": [
    "# Any quadruple numbers "
   ],
   "metadata": {}
  },
  {
   "cell_type": "code",
   "execution_count": null,
   "source": [
    "df[df[\"number\"].astype(str).str.match(r\".*(\\d)\\1\\1\\1.*\")]"
   ],
   "outputs": [],
   "metadata": {}
  },
  {
   "cell_type": "markdown",
   "source": [
    "# Any double numbers repeating"
   ],
   "metadata": {}
  },
  {
   "cell_type": "code",
   "execution_count": null,
   "source": [
    "df[df[\"number\"].astype(str).str.match(r\".*(\\d)(\\1).*\\1\\2.*\")]"
   ],
   "outputs": [],
   "metadata": {}
  },
  {
   "cell_type": "markdown",
   "source": [
    "# More than one set of double digit numbers"
   ],
   "metadata": {}
  },
  {
   "cell_type": "code",
   "execution_count": null,
   "source": [
    "dfo=df[df[\"number\"].astype(str).str.match(r\".*(\\d)\\1.*(\\d)\\2.*\")]\n",
    "print(dfo.to_numpy())"
   ],
   "outputs": [],
   "metadata": {}
  },
  {
   "cell_type": "markdown",
   "source": [
    "More than two set of double numbers"
   ],
   "metadata": {}
  },
  {
   "cell_type": "code",
   "execution_count": null,
   "source": [
    "df[df[\"number\"].astype(str).str.match(r\".*(\\d)\\1.*(\\d)\\2.*(\\d)\\3.*\")]"
   ],
   "outputs": [],
   "metadata": {}
  },
  {
   "cell_type": "markdown",
   "source": [
    "# Middle two numbers are double digit"
   ],
   "metadata": {}
  },
  {
   "cell_type": "code",
   "execution_count": null,
   "source": [
    "dfo=df[df[\"number\"].astype(str).str.match(r\"^\\d{4}(\\d)\\1\\d{4}\")]\n",
    "print(dfo.sort_values('number').to_numpy())"
   ],
   "outputs": [],
   "metadata": {}
  },
  {
   "cell_type": "markdown",
   "source": [
    "# Match 4 numbers in sequence"
   ],
   "metadata": {}
  },
  {
   "cell_type": "code",
   "execution_count": null,
   "source": [
    "df[df[\"number\"].astype(str).str.match(r\"(0123|1234|2345|3456|4567|5678|6789)\")]"
   ],
   "outputs": [],
   "metadata": {}
  },
  {
   "cell_type": "markdown",
   "source": [
    "# Match 3 numbers in sequence"
   ],
   "metadata": {}
  },
  {
   "cell_type": "code",
   "execution_count": null,
   "source": [
    "df[df[\"number\"].astype(str).str.match(r\"(012|123|234|345|456|567|678|789)\")]"
   ],
   "outputs": [],
   "metadata": {}
  },
  {
   "cell_type": "markdown",
   "source": [
    "# Double ending numbers"
   ],
   "metadata": {}
  },
  {
   "cell_type": "code",
   "execution_count": null,
   "source": [
    "dfo=df[df[\"number\"].astype(str).str.match(r\"\\d{8}(\\d)\\1\")]\n",
    "dfc = dfo.columns.copy()\n",
    "dfo[[\"l1\", \"l2\"]] = dfo[\"number\"].astype(str).str.extract(r\"\\d{8}(\\d)(\\1)\", expand=True)\n",
    "print(dfo.sort_values([\"l1\", \"l2\"])[dfc].to_numpy())"
   ],
   "outputs": [],
   "metadata": {}
  }
 ],
 "metadata": {
  "orig_nbformat": 4,
  "language_info": {
   "name": "python",
   "version": "3.9.7",
   "mimetype": "text/x-python",
   "codemirror_mode": {
    "name": "ipython",
    "version": 3
   },
   "pygments_lexer": "ipython3",
   "nbconvert_exporter": "python",
   "file_extension": ".py"
  },
  "kernelspec": {
   "name": "python3",
   "display_name": "Python 3.9.7 64-bit"
  },
  "interpreter": {
   "hash": "36cf16204b8548560b1c020c4e8fb5b57f0e4c58016f52f2d4be01e192833930"
  }
 },
 "nbformat": 4,
 "nbformat_minor": 2
}