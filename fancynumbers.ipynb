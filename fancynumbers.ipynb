{
 "cells": [
  {
   "cell_type": "code",
   "execution_count": null,
   "source": [
    "import json\n",
    "import pandas as pd\n",
    "from rich.jupyter import print\n",
    "import requests"
   ],
   "outputs": [],
   "metadata": {}
  },
  {
   "cell_type": "markdown",
   "source": [
    "# Create requests session"
   ],
   "metadata": {}
  },
  {
   "cell_type": "code",
   "execution_count": null,
   "source": [
    "session = requests.Session()"
   ],
   "outputs": [],
   "metadata": {}
  },
  {
   "cell_type": "markdown",
   "source": [
    "# Set City\n"
   ],
   "metadata": {}
  },
  {
   "cell_type": "code",
   "execution_count": null,
   "source": [
    "headers = {\n",
    "    'authority': '10digi.com',\n",
    "    'sec-ch-ua': '\"Chromium\";v=\"94\", \"Google Chrome\";v=\"94\", \";Not A Brand\";v=\"99\"',\n",
    "    'accept': 'application/json, text/plain, */*',\n",
    "    'content-type': 'application/json;charset=UTF-8',\n",
    "    'sec-ch-ua-mobile': '?0',\n",
    "    'user-agent': 'Mozilla/5.0 (X11; Linux x86_64) AppleWebKit/537.36 (KHTML, like Gecko) Chrome/94.0.4606.71 Safari/537.36',\n",
    "    'sec-ch-ua-platform': '\"Linux\"',\n",
    "    'origin': 'https://10digi.com',\n",
    "    'sec-fetch-site': 'same-origin',\n",
    "    'sec-fetch-mode': 'cors',\n",
    "    'sec-fetch-dest': 'empty',\n",
    "    'referer': 'https://10digi.com/',\n",
    "    'accept-language': 'en-US,en;q=0.9,ta;q=0.8',\n",
    "}\n",
    "\n",
    "data = '{\"cityId\":\"1747\"}' #Chennai 1747, Mumbai 998, Delhi 1, Pune 2707, Bengaluru 1543, Hyderabad 10000, Chandigar 164 \n",
    "\n",
    "response = session.post('https://10digi.com/api/v2/auth/sc.json', headers=headers, data=data)"
   ],
   "outputs": [],
   "metadata": {}
  },
  {
   "cell_type": "code",
   "execution_count": null,
   "source": [
    "headers = {\n",
    "    'authority': '10digi.com',\n",
    "    'sec-ch-ua': '\"Google Chrome\";v=\"93\", \" Not;A Brand\";v=\"99\", \"Chromium\";v=\"93\"',\n",
    "    'accept': 'application/json, text/plain, */*',\n",
    "    'content-type': 'application/json;charset=UTF-8',\n",
    "    'accept-language': 'en-GB,en-US;q=0.9,en;q=0.8',\n",
    "    'sec-ch-ua-mobile': '?0',\n",
    "    'user-agent': 'Mozilla/5.0 (Windows NT 10.0; WOW64) AppleWebKit/537.36 (KHTML, like Gecko) Chrome/93.0.4577.82 Safari/537.36',\n",
    "    'sec-ch-ua-platform': '\"Windows\"',\n",
    "    'origin': 'https://10digi.com',\n",
    "    'sec-fetch-site': 'same-origin',\n",
    "    'sec-fetch-mode': 'cors',\n",
    "    'sec-fetch-dest': 'empty',\n",
    "    'referer': 'https://10digi.com/fancy-number/',\n",
    "}\n",
    "\n",
    "data = '{\"filters\":{\"brands\":[],\"patterns\":[],\"category_type\":[\"top-numbers\"],\"price\":{\"max\":\"100000.00\",\"min\":\"0.00\"},\"series\":[],\"limit\":100000,\"offset\":0}}'\n",
    "response = session.post('https://10digi.com/api/v2/numbers/list', headers=headers, data=data)"
   ],
   "outputs": [],
   "metadata": {}
  },
  {
   "cell_type": "code",
   "execution_count": null,
   "source": [
    "content = json.loads(response.content)\n",
    "dfi = pd.DataFrame(content[\"data\"][\"list\"])\n",
    "if len(dfi) == 0:\n",
    "    print(\"[bold red]No numbers returned for the selected location[/]\")\n",
    "df = dfi[[\"number\", \"value\", \"circle_name\", \"brand_name\"]]"
   ],
   "outputs": [],
   "metadata": {}
  },
  {
   "cell_type": "markdown",
   "source": [
    "# Total available numbers\n"
   ],
   "metadata": {}
  },
  {
   "cell_type": "code",
   "execution_count": null,
   "source": [
    "print(f\"Available numbers [bold magenta]{df.size}[/]\")"
   ],
   "outputs": [],
   "metadata": {}
  },
  {
   "cell_type": "markdown",
   "source": [
    "# Any triple numbers\n"
   ],
   "metadata": {}
  },
  {
   "cell_type": "code",
   "execution_count": null,
   "source": [
    "df[df[\"number\"].astype(str).str.match(r\".*(\\d)\\1\\1.*\")]"
   ],
   "outputs": [],
   "metadata": {}
  },
  {
   "cell_type": "markdown",
   "source": [
    "# One triple and one double number\n"
   ],
   "metadata": {}
  },
  {
   "cell_type": "code",
   "execution_count": null,
   "source": [
    "dfo=df[df[\"number\"].astype(str).str.match(r\".*(\\d)\\1\\1.*(\\d)\\2?\\2.*|.*(\\d)\\3?\\3.*(\\d)\\4\\4.*\")]\n",
    "print(dfo.to_numpy())"
   ],
   "outputs": [],
   "metadata": {}
  },
  {
   "cell_type": "markdown",
   "source": [
    "# Two numbers repeating at least once\n"
   ],
   "metadata": {}
  },
  {
   "cell_type": "code",
   "execution_count": null,
   "source": [
    "dfo=df[df[\"number\"].astype(str).str.match(r\".*(\\d{2}).*\\1\")]\n",
    "print(dfo.to_numpy())"
   ],
   "outputs": [],
   "metadata": {}
  },
  {
   "cell_type": "markdown",
   "source": [
    "# Two numbers repeating more than once\n"
   ],
   "metadata": {}
  },
  {
   "cell_type": "code",
   "execution_count": null,
   "source": [
    "dfo=df[df[\"number\"].astype(str).str.match(r\".*(\\d{2}).*\\1.*\\1.*\")]\n",
    "print(dfo.to_numpy())"
   ],
   "outputs": [],
   "metadata": {}
  },
  {
   "cell_type": "markdown",
   "source": [
    "# Two numbers repeating more than once consecutively\n"
   ],
   "metadata": {}
  },
  {
   "cell_type": "code",
   "execution_count": null,
   "source": [
    "df[df[\"number\"].astype(str).str.match(r\".*(\\d{2})\\1\\1.*\")]"
   ],
   "outputs": [],
   "metadata": {}
  },
  {
   "cell_type": "markdown",
   "source": [
    "# Starting two numbers repeated anywhere\n"
   ],
   "metadata": {}
  },
  {
   "cell_type": "code",
   "execution_count": null,
   "source": [
    "dfo=df[df[\"number\"].astype(str).str.match(r\"^(\\d{2}).*\\1\")]\n",
    "print(dfo.to_csv())"
   ],
   "outputs": [],
   "metadata": {}
  },
  {
   "cell_type": "markdown",
   "source": [
    "# Starting and ending 3 numbers are same\n"
   ],
   "metadata": {}
  },
  {
   "cell_type": "code",
   "execution_count": null,
   "source": [
    "df[df[\"number\"].astype(str).str.match(r\"^(\\d{3}).*\\1$\")]"
   ],
   "outputs": [],
   "metadata": {}
  },
  {
   "cell_type": "markdown",
   "source": [
    "# Starting 3 numbers repeated at least once\n"
   ],
   "metadata": {}
  },
  {
   "cell_type": "code",
   "execution_count": null,
   "source": [
    "df[df[\"number\"].astype(str).str.match(r\"^(\\d{3}).*\\1.*\")]"
   ],
   "outputs": [],
   "metadata": {}
  },
  {
   "cell_type": "markdown",
   "source": [
    "# Any 3 numbers repeated once\n"
   ],
   "metadata": {}
  },
  {
   "cell_type": "code",
   "execution_count": null,
   "source": [
    "df[df[\"number\"].astype(str).str.match(r\".*(\\d{3}).*\\1.*\")]"
   ],
   "outputs": [],
   "metadata": {}
  },
  {
   "cell_type": "markdown",
   "source": [
    "# Any number repeated at least 4 times\n"
   ],
   "metadata": {}
  },
  {
   "cell_type": "code",
   "execution_count": null,
   "source": [
    "print(df[df[\"number\"].astype(str).str.match(r\".*(\\d).*\\1.*\\1.*\\1.*\")])"
   ],
   "outputs": [],
   "metadata": {}
  },
  {
   "cell_type": "markdown",
   "source": [
    "# Any number repeated at least 5 times\n"
   ],
   "metadata": {}
  },
  {
   "cell_type": "code",
   "execution_count": null,
   "source": [
    "print(df[df[\"number\"].astype(str).str.match(r\".*(\\d).*\\1.*\\1.*\\1.*\\1.*\")])"
   ],
   "outputs": [],
   "metadata": {}
  },
  {
   "cell_type": "markdown",
   "source": [
    "# Any quadruple numbers\n"
   ],
   "metadata": {}
  },
  {
   "cell_type": "code",
   "execution_count": null,
   "source": [
    "df[df[\"number\"].astype(str).str.match(r\".*(\\d)\\1\\1\\1.*\")]"
   ],
   "outputs": [],
   "metadata": {}
  },
  {
   "cell_type": "markdown",
   "source": [
    "# Any double numbers repeating\n"
   ],
   "metadata": {}
  },
  {
   "cell_type": "code",
   "execution_count": null,
   "source": [
    "df[df[\"number\"].astype(str).str.match(r\".*(\\d)(\\1).*\\1\\2.*\")]"
   ],
   "outputs": [],
   "metadata": {}
  },
  {
   "cell_type": "markdown",
   "source": [
    "# More than one set of double digit numbers\n"
   ],
   "metadata": {}
  },
  {
   "cell_type": "code",
   "execution_count": null,
   "source": [
    "dfo=df[df[\"number\"].astype(str).str.match(r\".*(\\d)\\1.*(\\d)\\2.*\")]\n",
    "print(dfo.to_numpy())"
   ],
   "outputs": [],
   "metadata": {}
  },
  {
   "cell_type": "markdown",
   "source": [
    "More than two set of double numbers\n"
   ],
   "metadata": {}
  },
  {
   "cell_type": "code",
   "execution_count": null,
   "source": [
    "df[df[\"number\"].astype(str).str.match(r\".*(\\d)\\1.*(\\d)\\2.*(\\d)\\3.*\")]"
   ],
   "outputs": [],
   "metadata": {}
  },
  {
   "cell_type": "markdown",
   "source": [
    "# Middle two numbers are double digit\n"
   ],
   "metadata": {}
  },
  {
   "cell_type": "code",
   "execution_count": null,
   "source": [
    "dfo=df[df[\"number\"].astype(str).str.match(r\"^\\d{4}(\\d)\\1\\d{4}\")]\n",
    "print(dfo.sort_values('number').to_numpy())"
   ],
   "outputs": [],
   "metadata": {}
  },
  {
   "cell_type": "markdown",
   "source": [
    "# Match 4 numbers in sequence\n"
   ],
   "metadata": {}
  },
  {
   "cell_type": "code",
   "execution_count": null,
   "source": [
    "df[df[\"number\"].astype(str).str.match(r\"(0123|1234|2345|3456|4567|5678|6789)\")]"
   ],
   "outputs": [],
   "metadata": {}
  },
  {
   "cell_type": "markdown",
   "source": [
    "# Match 3 numbers in sequence\n"
   ],
   "metadata": {}
  },
  {
   "cell_type": "code",
   "execution_count": null,
   "source": [
    "df[df[\"number\"].astype(str).str.match(r\"(012|123|234|345|456|567|678|789)\")]"
   ],
   "outputs": [],
   "metadata": {}
  },
  {
   "cell_type": "markdown",
   "source": [
    "# Double ending numbers\n"
   ],
   "metadata": {}
  },
  {
   "cell_type": "code",
   "execution_count": null,
   "source": [
    "dfo=df[df[\"number\"].astype(str).str.match(r\"\\d{8}(\\d)\\1\")]\n",
    "dfc = dfo.columns.copy()\n",
    "dfo[[\"l1\", \"l2\"]] = dfo[\"number\"].astype(str).str.extract(r\"\\d{8}(\\d)(\\1)\", expand=True)\n",
    "print(dfo.sort_values([\"l1\", \"l2\"])[dfc].to_numpy())"
   ],
   "outputs": [],
   "metadata": {}
  }
 ],
 "metadata": {
  "orig_nbformat": 4,
  "kernelspec": {
   "name": "python3",
   "display_name": "Python 3 (ipykernel)",
   "language": "python"
  },
  "interpreter": {
   "hash": "36cf16204b8548560b1c020c4e8fb5b57f0e4c58016f52f2d4be01e192833930"
  },
  "language_info": {
   "name": "python",
   "version": "3.9.7",
   "mimetype": "text/x-python",
   "codemirror_mode": {
    "name": "ipython",
    "version": 3
   },
   "pygments_lexer": "ipython3",
   "nbconvert_exporter": "python",
   "file_extension": ".py"
  }
 },
 "nbformat": 4,
 "nbformat_minor": 2
}